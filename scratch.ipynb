{
 "cells": [
  {
   "cell_type": "code",
   "execution_count": 75,
   "id": "11755362-7dcd-4e70-9a2b-b94a576e8ca6",
   "metadata": {},
   "outputs": [],
   "source": [
    "from collections import Counter\n",
    "\n",
    "sample = 0\n",
    "\n",
    "if sample == True:\n",
    "    filename = \"inputs/day01_sample.txt\"\n",
    "else:\n",
    "    filename = \"inputs/day01.txt\"\n",
    "\n",
    "with open(filename) as f:\n",
    "    puzzle_input = f.read().splitlines()\n",
    "puzzle_input_big = puzzle_input * 100"
   ]
  },
  {
   "cell_type": "code",
   "execution_count": 153,
   "id": "279f0fbd-c42a-4d03-8871-276de8ac016c",
   "metadata": {},
   "outputs": [],
   "source": [
    "def parse_input1(filename):\n",
    "    with open(filename) as f:\n",
    "        puzzle_input = f.read().splitlines()\n",
    "    \n",
    "    l1, l2 = zip(*[x.split() for x in puzzle_input])\n",
    "    l1 = sorted(l1)\n",
    "    l2 = sorted(l2)\n",
    "    return l1, l2"
   ]
  },
  {
   "cell_type": "code",
   "execution_count": 154,
   "id": "daf1e292-7849-4a1f-a008-52ec096386a9",
   "metadata": {},
   "outputs": [],
   "source": [
    "def parse_input2(filename):\n",
    "    split_lines = []\n",
    "    with open(filename, 'r') as f:\n",
    "        for line in f:\n",
    "            split_lines.append(line.split())\n",
    "    \n",
    "    l1, l2 = zip(*split_lines)\n",
    "    l1 = sorted(l1)\n",
    "    l2 = sorted(l2)\n",
    "    return l1, l2"
   ]
  },
  {
   "cell_type": "code",
   "execution_count": 155,
   "id": "f40d3003-3b8a-450b-b360-8a132ce55481",
   "metadata": {},
   "outputs": [],
   "source": [
    "def parse_input3(filename):\n",
    "    # read it all the data first...\n",
    "    with open(filename) as f:\n",
    "        puzzle_input = f.read().splitlines()\n",
    "    # then process it\n",
    "    l1, l2 = [], []\n",
    "    for line in puzzle_input:\n",
    "        num1, num2 = map(int, line.split())\n",
    "        l1.append(num1)\n",
    "        l2.append(num2)\n",
    "    l1.sort()\n",
    "    l2.sort()\n",
    "    return l1, l2"
   ]
  },
  {
   "cell_type": "code",
   "execution_count": 156,
   "id": "bc5184f4-294a-4097-983a-0fff3800db96",
   "metadata": {},
   "outputs": [],
   "source": [
    "def parse_input4(filename):\n",
    "    l1, l2 = [], []\n",
    "    # process data as we read it in\n",
    "    with open(filename, 'r') as f:\n",
    "        for line in f:\n",
    "            num1, num2 = map(int, line.split())\n",
    "            l1.append(num1)\n",
    "            l2.append(num2)\n",
    "    l1.sort()\n",
    "    l2.sort()\n",
    "    return l1, l2"
   ]
  },
  {
   "cell_type": "code",
   "execution_count": null,
   "id": "c09d4a31-b243-4ee6-a623-cc8771862461",
   "metadata": {},
   "outputs": [],
   "source": []
  },
  {
   "cell_type": "code",
   "execution_count": 161,
   "id": "2ab42f21-d822-40fa-9658-e3bfc0cdef50",
   "metadata": {},
   "outputs": [
    {
     "name": "stdout",
     "output_type": "stream",
     "text": [
      "272 μs ± 4.54 μs per loop (mean ± std. dev. of 7 runs, 1,000 loops each)\n"
     ]
    }
   ],
   "source": [
    "%%timeit\n",
    "l1, l2 = parse_input1(filename)"
   ]
  },
  {
   "cell_type": "code",
   "execution_count": 162,
   "id": "8678eed4-d526-4452-8e42-c2eb7f65481d",
   "metadata": {},
   "outputs": [
    {
     "name": "stdout",
     "output_type": "stream",
     "text": [
      "272 μs ± 351 ns per loop (mean ± std. dev. of 7 runs, 1,000 loops each)\n"
     ]
    }
   ],
   "source": [
    "%%timeit\n",
    "l1, l2 = parse_input2(filename)"
   ]
  },
  {
   "cell_type": "code",
   "execution_count": 163,
   "id": "f85e6cd9-a490-493f-8327-15c5bbb8e076",
   "metadata": {},
   "outputs": [
    {
     "name": "stdout",
     "output_type": "stream",
     "text": [
      "253 μs ± 2.85 μs per loop (mean ± std. dev. of 7 runs, 1,000 loops each)\n"
     ]
    }
   ],
   "source": [
    "%%timeit\n",
    "l1, l2 = parse_input3(filename)"
   ]
  },
  {
   "cell_type": "code",
   "execution_count": 164,
   "id": "f31a81dd-a5d2-4263-8482-469e11aed262",
   "metadata": {},
   "outputs": [
    {
     "name": "stdout",
     "output_type": "stream",
     "text": [
      "259 μs ± 1.48 μs per loop (mean ± std. dev. of 7 runs, 1,000 loops each)\n"
     ]
    }
   ],
   "source": [
    "%%timeit\n",
    "l1, l2 = parse_input4(filename)"
   ]
  },
  {
   "cell_type": "code",
   "execution_count": 70,
   "id": "4d8d4ca0-0a3f-4b6a-9b45-e4c02c8e34f9",
   "metadata": {},
   "outputs": [],
   "source": [
    "def solve_pt1(l1, l2):\n",
    "    diffs = [abs(int(a) - int(b)) for a,b in zip(l1, l2)]\n",
    "    return sum(diffs)"
   ]
  },
  {
   "cell_type": "code",
   "execution_count": 71,
   "id": "de5102ff-845c-42d1-ab0d-8f0d03f136c0",
   "metadata": {},
   "outputs": [],
   "source": [
    "def solve_pt2(l1, l2):\n",
    "    ans = 0\n",
    "    counts = Counter(l2)\n",
    "    for val in l1:\n",
    "        ans += int(val) * counts[val]\n",
    "        \n",
    "    return ans"
   ]
  },
  {
   "cell_type": "code",
   "execution_count": 72,
   "id": "50946c13-346f-4d6e-84f6-d27ffe245ea8",
   "metadata": {},
   "outputs": [],
   "source": [
    "l1, l2 = parse_input(puzzle_input)\n",
    "ans_1 = solve_pt1(l1, l2)\n",
    "ans_2 = solve_pt2(l1, l2)"
   ]
  },
  {
   "cell_type": "code",
   "execution_count": 74,
   "id": "5dda85c5-3472-4071-b5f9-bbd57c0e7272",
   "metadata": {},
   "outputs": [
    {
     "name": "stdout",
     "output_type": "stream",
     "text": [
      "3508942\n",
      "26593248\n"
     ]
    }
   ],
   "source": [
    "print(ans_1)\n",
    "print(ans_2)"
   ]
  }
 ],
 "metadata": {
  "kernelspec": {
   "display_name": "Python 3 (ipykernel)",
   "language": "python",
   "name": "python3"
  },
  "language_info": {
   "codemirror_mode": {
    "name": "ipython",
    "version": 3
   },
   "file_extension": ".py",
   "mimetype": "text/x-python",
   "name": "python",
   "nbconvert_exporter": "python",
   "pygments_lexer": "ipython3",
   "version": "3.12.7"
  }
 },
 "nbformat": 4,
 "nbformat_minor": 5
}
