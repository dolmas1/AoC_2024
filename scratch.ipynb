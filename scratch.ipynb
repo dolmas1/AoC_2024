{
 "cells": [
  {
   "cell_type": "code",
   "execution_count": 690,
   "id": "11755362-7dcd-4e70-9a2b-b94a576e8ca6",
   "metadata": {},
   "outputs": [],
   "source": [
    "from collections import Counter\n",
    "import re\n",
    "\n",
    "sample = False\n",
    "\n",
    "if sample == True:\n",
    "    filename = \"inputs/day05_sample.txt\"\n",
    "else:\n",
    "    filename = \"inputs/day05.txt\"\n",
    "\n",
    "with open(filename) as f:\n",
    "    puzzle_input = f.read().splitlines()\n",
    "    \n",
    "    # puzzle_input = ''\n",
    "    # for line in f:\n",
    "    #     puzzle_input += line\n",
    "\n",
    "\n",
    "puzzle_input_big = puzzle_input * 100"
   ]
  },
  {
   "cell_type": "code",
   "execution_count": 573,
   "id": "f161af3b-016a-44c8-b661-f17f1405d487",
   "metadata": {},
   "outputs": [],
   "source": [
    "def read_input(filename):\n",
    "    with open(filename, 'r') as f:\n",
    "        rules = []\n",
    "        updates = []\n",
    "        input_status = 0\n",
    "        for line in f:\n",
    "            if line == '\\n':\n",
    "                input_status = 1\n",
    "                continue\n",
    "            elif input_status == 0:\n",
    "                rule = {}\n",
    "                rule['rule'] = line.rstrip().split('|')\n",
    "                rule['pageset'] = set(rule['rule'])\n",
    "                rules.append(rule)\n",
    "            else:\n",
    "                update = {}\n",
    "                update['update'] = line.rstrip().split(',')\n",
    "                update['pageset'] = set(update['update'])\n",
    "                update['middle'] = update['update'][int((len(update['update']) - 1) / 2)]\n",
    "                updates.append(update)\n",
    "\n",
    "    return rules, updates\n"
   ]
  },
  {
   "cell_type": "code",
   "execution_count": 585,
   "id": "e4c822e4-6cd4-416b-b875-e7dd441e6d3a",
   "metadata": {},
   "outputs": [
    {
     "name": "stdout",
     "output_type": "stream",
     "text": [
      "21.2 μs ± 333 ns per loop (mean ± std. dev. of 7 runs, 10,000 loops each)\n"
     ]
    }
   ],
   "source": [
    "%%timeit\n",
    "rules, updates = read_input(filename)\n",
    "ans = solve_pt1(updates, rules)\n"
   ]
  },
  {
   "cell_type": "code",
   "execution_count": 554,
   "id": "956f273c-c8fa-4017-a5f5-60a39138939b",
   "metadata": {},
   "outputs": [],
   "source": [
    "def find_relevant_rules(update, rules):\n",
    "    return [rule for rule in rules if rule['pageset'].issubset(update['pageset'])]"
   ]
  },
  {
   "cell_type": "code",
   "execution_count": 564,
   "id": "a8b874ed-d959-4ca2-9190-d8bfe2f80164",
   "metadata": {},
   "outputs": [],
   "source": [
    "def check_rule(update, rule):\n",
    "    if update['update'].index(rule['rule'][0]) < update['update'].index(rule['rule'][1]):\n",
    "        return True\n",
    "    else:\n",
    "        return False"
   ]
  },
  {
   "cell_type": "code",
   "execution_count": 565,
   "id": "350b9cce-e027-4c88-af0c-9816f36af4b7",
   "metadata": {},
   "outputs": [],
   "source": [
    "def check_update(update, rules):\n",
    "    relevant_rules = find_relevant_rules(update, rules)\n",
    "    for rule in relevant_rules:\n",
    "        if check_rule(update, rule):\n",
    "            pass\n",
    "        else:\n",
    "            return False\n",
    "    return True"
   ]
  },
  {
   "cell_type": "code",
   "execution_count": 570,
   "id": "719f8906-16e5-4e43-a6ef-7d8dc6624033",
   "metadata": {},
   "outputs": [],
   "source": [
    "def solve_pt1(updates, rules):\n",
    "    ans = 0\n",
    "    for update in updates:\n",
    "        if check_update(update, rules):\n",
    "            ans += int(update['middle'])\n",
    "    return ans"
   ]
  },
  {
   "cell_type": "code",
   "execution_count": 688,
   "id": "17f284ef-b221-457c-ade6-6f2cc3598896",
   "metadata": {},
   "outputs": [],
   "source": [
    "def solve(updates, rules):\n",
    "    ans_1 = 0\n",
    "    ans_2 = 0\n",
    "\n",
    "    ordering = defaultdict(int)\n",
    "    for rule in rules:\n",
    "        a, b = (rule['rule'][0], rule['rule'][1])\n",
    "        ordering[a] = ordering[b] - 1\n",
    "\n",
    "    for update in updates:\n",
    "        if check_update(update, rules):\n",
    "            ans_1 += int(update['middle'])\n",
    "        else:\n",
    "\n",
    "            ordering = defaultdict(int)\n",
    "            sorting_done = False\n",
    "            relevant_rules = find_relevant_rules(update, rules)\n",
    "            while not sorting_done:\n",
    "                ordering_new = ordering.copy()\n",
    "                for rule in relevant_rules:\n",
    "                    a, b = (rule['rule'][0], rule['rule'][1])\n",
    "                    ordering_new[a] = min(ordering_new[a], ordering_new[b] - 1)\n",
    "                if ordering_new == ordering:\n",
    "                    sorting_done = True\n",
    "                ordering = ordering_new.copy()\n",
    "\n",
    "\n",
    "            keys = list(map(ordering.get, update['update']))\n",
    "            sorted_update = [item for _, item in sorted(zip(keys, update['update']))]\n",
    "            \n",
    "            ans_2 += int(sorted_update[int((len(sorted_update) - 1) / 2)])\n",
    "            \n",
    "    return ans_1, ans_2"
   ]
  },
  {
   "cell_type": "code",
   "execution_count": 691,
   "id": "26a9fd3a-1bb7-427a-b0ad-186d68e5677f",
   "metadata": {},
   "outputs": [],
   "source": [
    "rules, updates = read_input(filename)"
   ]
  },
  {
   "cell_type": "code",
   "execution_count": 692,
   "id": "dce0e1e0-207b-4487-a581-6ee15f7ebd50",
   "metadata": {},
   "outputs": [
    {
     "data": {
      "text/plain": [
       "(5275, 6191)"
      ]
     },
     "execution_count": 692,
     "metadata": {},
     "output_type": "execute_result"
    }
   ],
   "source": [
    "# 75,97,47,61,53 becomes 97,75,47,61,53.\n",
    "# 61,13,29 becomes 61,29,13.\n",
    "# 97,13,75,29,47 becomes 97,75,47,29,13.\n",
    "solve(updates, rules)"
   ]
  },
  {
   "cell_type": "code",
   "execution_count": 661,
   "id": "2efda4c1-ff79-4283-ab26-12938b3a3d7c",
   "metadata": {},
   "outputs": [
    {
     "data": {
      "text/plain": [
       "defaultdict(int,\n",
       "            {'53': -1,\n",
       "             '47': -2,\n",
       "             '13': 0,\n",
       "             '97': -3,\n",
       "             '61': -2,\n",
       "             '29': -1,\n",
       "             '75': -1})"
      ]
     },
     "execution_count": 661,
     "metadata": {},
     "output_type": "execute_result"
    }
   ],
   "source": [
    "from collections import defaultdict\n",
    "\n",
    "\n",
    "ordering = defaultdict(int)\n",
    "for rule in rules:\n",
    "    a, b = (rule['rule'][0], rule['rule'][1])\n",
    "    ordering[a] = ordering[b] - 1\n",
    "ordering"
   ]
  },
  {
   "cell_type": "code",
   "execution_count": 621,
   "id": "6c992bfa-1cbb-4119-853c-809fd9eff593",
   "metadata": {},
   "outputs": [],
   "source": [
    "x = map(ordering.get, update['update'])"
   ]
  },
  {
   "cell_type": "code",
   "execution_count": 620,
   "id": "fe479422-94ec-4d8e-9a23-298e6adae714",
   "metadata": {},
   "outputs": [
    {
     "data": {
      "text/plain": [
       "{'update': ['97', '13', '75', '29', '47'],\n",
       " 'pageset': {'13', '29', '47', '75', '97'},\n",
       " 'middle': '75'}"
      ]
     },
     "execution_count": 620,
     "metadata": {},
     "output_type": "execute_result"
    }
   ],
   "source": [
    "update"
   ]
  },
  {
   "cell_type": "code",
   "execution_count": 622,
   "id": "4ceb9a6d-b4c3-463d-9e87-01d41a1f3a2d",
   "metadata": {},
   "outputs": [
    {
     "data": {
      "text/plain": [
       "[-3, 0, -1, -1, -2]"
      ]
     },
     "execution_count": 622,
     "metadata": {},
     "output_type": "execute_result"
    }
   ],
   "source": [
    "list(x)"
   ]
  },
  {
   "cell_type": "code",
   "execution_count": null,
   "id": "8d4d08e9-b2b6-4d58-b138-e444a02196ec",
   "metadata": {},
   "outputs": [],
   "source": [
    "input_list = ['b', 'c', 'a', 'd']\n",
    "reference_order = ['a', 'b', 'c', 'd']\n",
    "\n",
    "# Sort based on the reference order\n",
    "sorted_list = sorted(input_list, key=lambda x: reference_order.index(x))\n",
    "print(sorted_list)  # Output: ['a', 'b', 'c', 'd']\n"
   ]
  },
  {
   "cell_type": "code",
   "execution_count": 593,
   "id": "18283aee-193d-496f-ad80-fb6e0f9a43c0",
   "metadata": {},
   "outputs": [
    {
     "name": "stdout",
     "output_type": "stream",
     "text": [
      "['75', '47', '61', '53', '29']\n",
      "['97', '61', '53', '29', '13']\n",
      "['75', '29', '13']\n",
      "['75', '97', '47', '61', '53']\n",
      "['61', '13', '29']\n",
      "['97', '13', '75', '29', '47']\n"
     ]
    }
   ],
   "source": [
    "for update in updates:\n",
    "    print(update['update'])"
   ]
  },
  {
   "cell_type": "code",
   "execution_count": 576,
   "id": "df969d61-ae52-4567-aa67-fb914417bcc4",
   "metadata": {},
   "outputs": [
    {
     "name": "stdout",
     "output_type": "stream",
     "text": [
      "5275\n"
     ]
    }
   ],
   "source": [
    "ans = solve_pt1(updates, rules)\n",
    "print(ans)"
   ]
  },
  {
   "cell_type": "code",
   "execution_count": 561,
   "id": "f2f7128d-fd3a-485d-89cf-58889993ebd8",
   "metadata": {},
   "outputs": [
    {
     "data": {
      "text/plain": [
       "{'update': ['75', '47', '61', '53', '29'],\n",
       " 'pageset': {'29', '47', '53', '61', '75'},\n",
       " 'middle': '61'}"
      ]
     },
     "execution_count": 561,
     "metadata": {},
     "output_type": "execute_result"
    }
   ],
   "source": [
    "updates[0]"
   ]
  },
  {
   "cell_type": "code",
   "execution_count": 562,
   "id": "38d1adb6-16cb-4323-8066-466f7428ffc9",
   "metadata": {},
   "outputs": [
    {
     "data": {
      "text/plain": [
       "{'rule': ['97', '13'], 'pageset': {'13', '97'}}"
      ]
     },
     "execution_count": 562,
     "metadata": {},
     "output_type": "execute_result"
    }
   ],
   "source": [
    "rules[1]"
   ]
  },
  {
   "cell_type": "code",
   "execution_count": 560,
   "id": "af76da4f-b21f-4635-9022-131e7303fada",
   "metadata": {},
   "outputs": [
    {
     "data": {
      "text/plain": [
       "[{'rule': ['97', '13'], 'pageset': {'13', '97'}},\n",
       " {'rule': ['97', '61'], 'pageset': {'61', '97'}},\n",
       " {'rule': ['61', '13'], 'pageset': {'13', '61'}},\n",
       " {'rule': ['29', '13'], 'pageset': {'13', '29'}},\n",
       " {'rule': ['97', '29'], 'pageset': {'29', '97'}},\n",
       " {'rule': ['53', '29'], 'pageset': {'29', '53'}},\n",
       " {'rule': ['61', '53'], 'pageset': {'53', '61'}},\n",
       " {'rule': ['97', '53'], 'pageset': {'53', '97'}},\n",
       " {'rule': ['61', '29'], 'pageset': {'29', '61'}},\n",
       " {'rule': ['53', '13'], 'pageset': {'13', '53'}}]"
      ]
     },
     "execution_count": 560,
     "metadata": {},
     "output_type": "execute_result"
    }
   ],
   "source": [
    "find_relevant_rules(updates[1], rules)"
   ]
  },
  {
   "cell_type": "code",
   "execution_count": 526,
   "id": "42fc0af9-b97b-4609-ab7d-096a3e79c0c6",
   "metadata": {},
   "outputs": [
    {
     "data": {
      "text/plain": [
       "[['75', '47', '61', '53', '29'],\n",
       " ['97', '61', '53', '29', '13'],\n",
       " ['75', '29', '13'],\n",
       " ['75', '97', '47', '61', '53'],\n",
       " ['61', '13', '29'],\n",
       " ['97', '13', '75', '29', '47']]"
      ]
     },
     "execution_count": 526,
     "metadata": {},
     "output_type": "execute_result"
    }
   ],
   "source": [
    "updates"
   ]
  },
  {
   "cell_type": "code",
   "execution_count": 523,
   "id": "2a9702b6-a3ad-4fa2-be0b-cf8b990b5ce3",
   "metadata": {},
   "outputs": [
    {
     "data": {
      "text/plain": [
       "[['47', '53'],\n",
       " ['97', '13'],\n",
       " ['97', '61'],\n",
       " ['97', '47'],\n",
       " ['75', '29'],\n",
       " ['61', '13'],\n",
       " ['75', '53'],\n",
       " ['29', '13'],\n",
       " ['97', '29'],\n",
       " ['53', '29'],\n",
       " ['61', '53'],\n",
       " ['97', '53'],\n",
       " ['61', '29'],\n",
       " ['47', '13'],\n",
       " ['75', '47'],\n",
       " ['97', '75'],\n",
       " ['47', '61'],\n",
       " ['75', '61'],\n",
       " ['47', '29'],\n",
       " ['75', '13'],\n",
       " ['53', '13']]"
      ]
     },
     "execution_count": 523,
     "metadata": {},
     "output_type": "execute_result"
    }
   ],
   "source": [
    "rules"
   ]
  },
  {
   "cell_type": "code",
   "execution_count": null,
   "id": "07fc5552-1a46-44e6-859b-5505ef6ad9ff",
   "metadata": {},
   "outputs": [],
   "source": []
  },
  {
   "cell_type": "code",
   "execution_count": null,
   "id": "5cdaf09f-27af-4075-aef9-60ab794247a5",
   "metadata": {},
   "outputs": [],
   "source": []
  },
  {
   "cell_type": "code",
   "execution_count": null,
   "id": "5795f960-2cea-461b-9052-068677e7d1b7",
   "metadata": {},
   "outputs": [],
   "source": []
  },
  {
   "cell_type": "code",
   "execution_count": null,
   "id": "7430c8a4-9d1d-495d-8a70-0097e7fecd7c",
   "metadata": {},
   "outputs": [],
   "source": []
  },
  {
   "cell_type": "code",
   "execution_count": null,
   "id": "15bcadde-05fa-4418-8fc6-3d832dae9fc5",
   "metadata": {},
   "outputs": [],
   "source": [
    "instructs_pt1 = parse_input(puzzle_input)\n",
    "instructs_pt2 = parse_input(puzzle_input_censored)\n",
    "ans1 = solve(instructs_pt1)\n",
    "ans2 = solve(instructs_pt2)\n",
    "print(ans1)\n",
    "print(ans2)"
   ]
  },
  {
   "cell_type": "code",
   "execution_count": null,
   "id": "98369e97-8e37-41aa-a654-71965fd456a8",
   "metadata": {},
   "outputs": [],
   "source": []
  },
  {
   "cell_type": "code",
   "execution_count": null,
   "id": "43c587e5-1368-43f6-9f50-1186bb7b0124",
   "metadata": {},
   "outputs": [],
   "source": []
  },
  {
   "cell_type": "code",
   "execution_count": null,
   "id": "7fb94403-aecb-4d62-9248-acb44c5be9c5",
   "metadata": {},
   "outputs": [],
   "source": [
    "\n",
    "def censor_input(puzzle_input):\n",
    "    pattern = r\"don\\'t\\(\\).+?do\\(\\)\"\n",
    "    input_censored = re.sub(pattern, '', puzzle_input)\n",
    "    return input_censored\n",
    "\n",
    "def parse_input(puzzle_input):\n",
    "    pattern = r'mul\\((\\d{1,3})\\,(\\d{1,3})\\)'\n",
    "    instructs = re.finditer(pattern, puzzle_input)\n",
    "    return instructs\n",
    "\n",
    "def solve(instructs):\n",
    "    pairs = [list(map(int, m.groups())) for m in instructs]\n",
    "    return sum([p[0]*p[1] for p in pairs])"
   ]
  },
  {
   "cell_type": "code",
   "execution_count": 396,
   "id": "51d7f444-ba37-49b0-9e85-794f6109dbe9",
   "metadata": {},
   "outputs": [],
   "source": [
    "def parse_input(puzzle_input):\n",
    "    \n",
    "    #nums = [list(map(int, line.split())) for line in puzzle_input]\n",
    "    pattern = r'mul\\((\\d{1,3})\\,(\\d{1,3})\\)'\n",
    "    instructs = []\n",
    "    for line in puzzle_input:\n",
    "        instructs += re.finditer(pattern, line)\n",
    "    return instructs"
   ]
  },
  {
   "cell_type": "code",
   "execution_count": 430,
   "id": "ebcbe50d-2f14-4fa2-911b-5b30639c1a58",
   "metadata": {},
   "outputs": [],
   "source": [
    "def solve(instructs):\n",
    "    pairs = [list(map(int, m.groups())) for m in instructs]\n",
    "    return sum([p[0]*p[1] for p in pairs])"
   ]
  },
  {
   "cell_type": "code",
   "execution_count": 415,
   "id": "03fed28d-5649-4a1d-ada0-559747fa0839",
   "metadata": {},
   "outputs": [
    {
     "data": {
      "text/plain": [
       "155955228"
      ]
     },
     "execution_count": 415,
     "metadata": {},
     "output_type": "execute_result"
    }
   ],
   "source": [
    "instructs = parse_input(puzzle_input)\n",
    "instructs\n",
    "solve_pt1(instructs)"
   ]
  },
  {
   "cell_type": "code",
   "execution_count": 459,
   "id": "f4803873-b3fd-40e5-a0d8-e1bdb6bd8c0d",
   "metadata": {},
   "outputs": [
    {
     "data": {
      "text/plain": [
       "\"$]~?,'mul(268,621)why() mul(668,915)mul(887,633)from()!where(998,493)how(230,27) mul(940,760);'/when()*!;~mul(71,701)-{mul(448,270)mul(925,62)mul(414,959)when() % select()how() ;><mul(416,836)#where()>@*<>why()mul(703,154))&how()*]select()+>;(mul(480,365)mul(724,324)what()from()~!(:,who()mul(226,399)'~mul(212,790)#!&]-mul(876,690){mul(233,661)!   don't()~+-how()from(){mul(509,769)<when()}select()why()what()}mul(451,517)&*~select()>when()->mul(87,282) *$;how()what(),mul(617,13)+where() when()mul(657,513)#>(( %#&%]mul(320,507):$%from()select();!what()mul(724,705)how()$why()~select(),,how(959,725)mul(149,615)}mul(450,692)mul(170,701)how()$mul(59,770)how()!,[$[what()mul(436,740)#+%mul(14,222),'when()who()>+]+{mul(116,16):(~@#!{who()mul(349,134)%select()when():^?{from()@*mul(933,635)?mul(653,875)>:,(->how()'}mul(963,506)when(280,474)where())+when()select()mul(568,226)[;mul(181,212)%+where()mul(720,273)don't()%mul(954,188)how()^mul(518,842)}#%what():mul(990,844)what()?<when()]mul(151,203)( (+>why()when()~@mul(434,665)@]mul(603,96)#'}&}/mul(878,991)#-&select()select()!]what()*mul(10,199) #from()*%>];mul(197,660)-mul(921,878)where()what()-<from()when()mul(414,11)do()&}how() ++#mul(834,70)^++]do()*('(;%}+mul(229,122)<-mul(246,512)@#,~@)$mul(144,702),select()^^what()[where()where(989,666)~mul(641,578)$!mul(854,445)'{)when()mul(485,421),]mul(203,14)(mul(964,896)#what(219,318)}@why()when()}:#mul(40,891)$]mul(593,751)where()mul(755,69)what()'!mul(295,76)when()[~(}when(815,693)mul(115,764)what()from()mul(572,436)[#) #?where(641,661)+mul(582,92)[/&when()/</:: mul(653,493)mul(516,59)<'}[what(257,655)mul(15-^why(279,495)!]!#%?why()&mul(273,379)how()+){!?mul(317,463)when() ]!what()}mul(188,340)mul(274,697):@mul(546,487)!mul(412,582){^**{)?@mul(477,785)where()(?mul(376,158)@*don't()#^mul(178,395)/&[?%$/mul(411,217))[)(,'mul(538,300);&+~who()@mul(469,107)$:,?$~]when()>mul(447,619)who(300,310)}+-when()where()<mul(872,71)$why()'when()/,($when()mul(238,409))[):mul(60,472)*{do()@#how(520,828)from()>mul(727,831)from()^mul(982,400)/-who()+(>(&select()mul(508,679)^('*'mul(549,463)']*select()>'+?'mul(149,313),':)mul(226,577)^how()who()mul(347,528)]~<mul(633,771) ([;}}<}:{mul(271,100)where()$from(587,500)$*mul(974,539)}*?:[+/>mul(323,513)mul(204,877),,select(){mul(290,987)>when()select()~what()()mul(131,943)why(726,908)when()why()/&$what() >mul(629,63))&mul(281,287)!^ /mul(615,191)mul(932,78)%&)]when()/~%%#mul(769,253)+@}/what()@]mul(118,261)how()when();*why()?why()mul(886,136)from()why()>]+[$mul(825,656)>mul(150,646)+:# ))(!select(72,556)who(247,255)mul(560,142)<&&'&]}};mul(821,966(mul(965,238)^:!'^%)$(where()mul(59,811)how()/from()-<from()}[*when()mul(146,176)\""
      ]
     },
     "execution_count": 459,
     "metadata": {},
     "output_type": "execute_result"
    }
   ],
   "source": [
    "puzzle_input[0]"
   ]
  },
  {
   "cell_type": "code",
   "execution_count": 471,
   "id": "1d166b4f-82b3-492c-adfb-fca0c02b0ef3",
   "metadata": {},
   "outputs": [
    {
     "data": {
      "text/plain": [
       "'XXthisXX'"
      ]
     },
     "execution_count": 471,
     "metadata": {},
     "output_type": "execute_result"
    }
   ],
   "source": [
    "pattern = r\"don't\\(\\).*?do\\(\\)\"\n",
    "pattern\n",
    "line = puzzle_input[0]\n",
    "line = \"don't()blahblahdo()thisdon't()theredo()\"\n",
    "re.sub(pattern, 'XX', line)"
   ]
  },
  {
   "cell_type": "code",
   "execution_count": 474,
   "id": "60b6a386-d1f1-47f8-aa0f-39481514c90b",
   "metadata": {},
   "outputs": [],
   "source": [
    "def censor_input(puzzle_input):\n",
    "    pattern = r\"don\\'t\\(\\).+?do\\(\\)\"\n",
    "    input_censored = ''\n",
    "    for line in puzzle_input:\n",
    "        input_censored += line\n",
    "    input_censored = re.sub(pattern, '', input_censored)\n",
    "    return input_censored"
   ]
  },
  {
   "cell_type": "code",
   "execution_count": 475,
   "id": "dcb25d31-82de-46fe-a497-592e6563ac39",
   "metadata": {},
   "outputs": [
    {
     "name": "stdout",
     "output_type": "stream",
     "text": [
      "155955228\n",
      "100189366\n"
     ]
    }
   ],
   "source": [
    "puzzle_input = [\"xmul(2,4)&mul[3,7]!^don't()_mul(5,5)+mul(32,64](mul(11,8)undo()?mul(8,5))\"]\n",
    "with open(filename) as f:\n",
    "    puzzle_input = f.read().splitlines()\n",
    "\n",
    "\n",
    "puzzle_input_censored = [censor_input(puzzle_input)]\n",
    "\n",
    "instructs_pt1 = parse_input(puzzle_input)\n",
    "instructs_pt2 = parse_input(puzzle_input_censored)\n",
    "ans1 = solve(instructs_pt1)\n",
    "ans2 = solve(instructs_pt2)\n",
    "print(ans1)\n",
    "print(ans2)"
   ]
  },
  {
   "cell_type": "code",
   "execution_count": 447,
   "id": "bd37ad6c-8126-43d5-b0f0-698991b24140",
   "metadata": {},
   "outputs": [
    {
     "data": {
      "text/plain": [
       "[<re.Match object; span=(1, 9), match='mul(2,4)'>,\n",
       " <re.Match object; span=(21, 29), match='mul(8,5)'>]"
      ]
     },
     "execution_count": 447,
     "metadata": {},
     "output_type": "execute_result"
    }
   ],
   "source": [
    "instructs_pt2"
   ]
  },
  {
   "cell_type": "code",
   "execution_count": 445,
   "id": "2c6c97b8-d66d-4160-8598-c0e1c6051387",
   "metadata": {},
   "outputs": [
    {
     "data": {
      "text/plain": [
       "[\"xmul(2,4)&mul[3,7]!^don't()_mul(5,5)+mul(32,64](mul(11,8)undo()?mul(8,5))\"]"
      ]
     },
     "execution_count": 445,
     "metadata": {},
     "output_type": "execute_result"
    }
   ],
   "source": [
    "puzzle_input_censored"
   ]
  },
  {
   "cell_type": "code",
   "execution_count": 364,
   "id": "2b7366ab-940c-4733-ac65-749f8f30605f",
   "metadata": {},
   "outputs": [
    {
     "name": "stdout",
     "output_type": "stream",
     "text": [
      "2.88 ms ± 14 μs per loop (mean ± std. dev. of 7 runs, 100 loops each)\n"
     ]
    }
   ],
   "source": [
    "%%timeit\n",
    "nums = parse_input(puzzle_input)\n",
    "validity = list(zip(*map(solve_line2, nums)))"
   ]
  },
  {
   "cell_type": "code",
   "execution_count": 365,
   "id": "ecf99417-75de-4280-a680-248a51ba1ebd",
   "metadata": {},
   "outputs": [
    {
     "name": "stdout",
     "output_type": "stream",
     "text": [
      "1.61 ms ± 6.52 μs per loop (mean ± std. dev. of 7 runs, 1,000 loops each)\n"
     ]
    }
   ],
   "source": [
    "%%timeit\n",
    "nums = parse_input(puzzle_input)\n",
    "validity = list(zip(*map(solve_line_shleen2, nums)))"
   ]
  },
  {
   "cell_type": "code",
   "execution_count": null,
   "id": "991dc051-6b28-41f3-b127-c9f2ef0dcd15",
   "metadata": {},
   "outputs": [],
   "source": []
  },
  {
   "cell_type": "code",
   "execution_count": null,
   "id": "5ecc6937-f259-4681-8e57-2df9ed7e8e18",
   "metadata": {},
   "outputs": [],
   "source": [
    "%%timeit"
   ]
  },
  {
   "cell_type": "code",
   "execution_count": null,
   "id": "15586024-b3ca-408b-beb7-f3fe5a10a390",
   "metadata": {},
   "outputs": [],
   "source": []
  },
  {
   "cell_type": "code",
   "execution_count": null,
   "id": "71fee9ec-1a7e-4f56-87d4-70648d9081cc",
   "metadata": {},
   "outputs": [],
   "source": []
  },
  {
   "cell_type": "code",
   "execution_count": 153,
   "id": "279f0fbd-c42a-4d03-8871-276de8ac016c",
   "metadata": {},
   "outputs": [],
   "source": [
    "def parse_input1(filename):\n",
    "    with open(filename) as f:\n",
    "        puzzle_input = f.read().splitlines()\n",
    "    \n",
    "    l1, l2 = zip(*[x.split() for x in puzzle_input])\n",
    "    l1 = sorted(l1)\n",
    "    l2 = sorted(l2)\n",
    "    return l1, l2"
   ]
  },
  {
   "cell_type": "code",
   "execution_count": 154,
   "id": "daf1e292-7849-4a1f-a008-52ec096386a9",
   "metadata": {},
   "outputs": [],
   "source": [
    "def parse_input2(filename):\n",
    "    split_lines = []\n",
    "    with open(filename, 'r') as f:\n",
    "        for line in f:\n",
    "            split_lines.append(line.split())\n",
    "    \n",
    "    l1, l2 = zip(*split_lines)\n",
    "    l1 = sorted(l1)\n",
    "    l2 = sorted(l2)\n",
    "    return l1, l2"
   ]
  },
  {
   "cell_type": "code",
   "execution_count": 155,
   "id": "f40d3003-3b8a-450b-b360-8a132ce55481",
   "metadata": {},
   "outputs": [],
   "source": [
    "def parse_input3(filename):\n",
    "    # read it all the data first...\n",
    "    with open(filename) as f:\n",
    "        puzzle_input = f.read().splitlines()\n",
    "    # then process it\n",
    "    l1, l2 = [], []\n",
    "    for line in puzzle_input:\n",
    "        num1, num2 = map(int, line.split())\n",
    "        l1.append(num1)\n",
    "        l2.append(num2)\n",
    "    l1.sort()\n",
    "    l2.sort()\n",
    "    return l1, l2"
   ]
  },
  {
   "cell_type": "code",
   "execution_count": 156,
   "id": "bc5184f4-294a-4097-983a-0fff3800db96",
   "metadata": {},
   "outputs": [],
   "source": [
    "def parse_input4(filename):\n",
    "    l1, l2 = [], []\n",
    "    # process data as we read it in\n",
    "    with open(filename, 'r') as f:\n",
    "        for line in f:\n",
    "            num1, num2 = map(int, line.split())\n",
    "            l1.append(num1)\n",
    "            l2.append(num2)\n",
    "    l1.sort()\n",
    "    l2.sort()\n",
    "    return l1, l2"
   ]
  },
  {
   "cell_type": "code",
   "execution_count": null,
   "id": "c09d4a31-b243-4ee6-a623-cc8771862461",
   "metadata": {},
   "outputs": [],
   "source": []
  },
  {
   "cell_type": "code",
   "execution_count": 161,
   "id": "2ab42f21-d822-40fa-9658-e3bfc0cdef50",
   "metadata": {},
   "outputs": [
    {
     "name": "stdout",
     "output_type": "stream",
     "text": [
      "272 μs ± 4.54 μs per loop (mean ± std. dev. of 7 runs, 1,000 loops each)\n"
     ]
    }
   ],
   "source": [
    "%%timeit\n",
    "l1, l2 = parse_input1(filename)"
   ]
  },
  {
   "cell_type": "code",
   "execution_count": 162,
   "id": "8678eed4-d526-4452-8e42-c2eb7f65481d",
   "metadata": {},
   "outputs": [
    {
     "name": "stdout",
     "output_type": "stream",
     "text": [
      "272 μs ± 351 ns per loop (mean ± std. dev. of 7 runs, 1,000 loops each)\n"
     ]
    }
   ],
   "source": [
    "%%timeit\n",
    "l1, l2 = parse_input2(filename)"
   ]
  },
  {
   "cell_type": "code",
   "execution_count": 163,
   "id": "f85e6cd9-a490-493f-8327-15c5bbb8e076",
   "metadata": {},
   "outputs": [
    {
     "name": "stdout",
     "output_type": "stream",
     "text": [
      "253 μs ± 2.85 μs per loop (mean ± std. dev. of 7 runs, 1,000 loops each)\n"
     ]
    }
   ],
   "source": [
    "%%timeit\n",
    "l1, l2 = parse_input3(filename)"
   ]
  },
  {
   "cell_type": "code",
   "execution_count": 164,
   "id": "f31a81dd-a5d2-4263-8482-469e11aed262",
   "metadata": {},
   "outputs": [
    {
     "name": "stdout",
     "output_type": "stream",
     "text": [
      "259 μs ± 1.48 μs per loop (mean ± std. dev. of 7 runs, 1,000 loops each)\n"
     ]
    }
   ],
   "source": [
    "%%timeit\n",
    "l1, l2 = parse_input4(filename)"
   ]
  },
  {
   "cell_type": "code",
   "execution_count": 70,
   "id": "4d8d4ca0-0a3f-4b6a-9b45-e4c02c8e34f9",
   "metadata": {},
   "outputs": [],
   "source": [
    "def solve_pt1(l1, l2):\n",
    "    diffs = [abs(int(a) - int(b)) for a,b in zip(l1, l2)]\n",
    "    return sum(diffs)"
   ]
  },
  {
   "cell_type": "code",
   "execution_count": 71,
   "id": "de5102ff-845c-42d1-ab0d-8f0d03f136c0",
   "metadata": {},
   "outputs": [],
   "source": [
    "def solve_pt2(l1, l2):\n",
    "    ans = 0\n",
    "    counts = Counter(l2)\n",
    "    for val in l1:\n",
    "        ans += int(val) * counts[val]\n",
    "        \n",
    "    return ans"
   ]
  },
  {
   "cell_type": "code",
   "execution_count": 72,
   "id": "50946c13-346f-4d6e-84f6-d27ffe245ea8",
   "metadata": {},
   "outputs": [],
   "source": [
    "l1, l2 = parse_input(puzzle_input)\n",
    "ans_1 = solve_pt1(l1, l2)\n",
    "ans_2 = solve_pt2(l1, l2)"
   ]
  },
  {
   "cell_type": "code",
   "execution_count": 74,
   "id": "5dda85c5-3472-4071-b5f9-bbd57c0e7272",
   "metadata": {},
   "outputs": [
    {
     "name": "stdout",
     "output_type": "stream",
     "text": [
      "3508942\n",
      "26593248\n"
     ]
    }
   ],
   "source": [
    "print(ans_1)\n",
    "print(ans_2)"
   ]
  },
  {
   "cell_type": "code",
   "execution_count": null,
   "id": "c935ad92-e337-4707-899e-75004f42acfc",
   "metadata": {},
   "outputs": [],
   "source": []
  },
  {
   "cell_type": "code",
   "execution_count": null,
   "id": "15c122b2-2020-438b-bc11-5dff4d6f0633",
   "metadata": {},
   "outputs": [],
   "source": []
  },
  {
   "cell_type": "markdown",
   "id": "4fcf110c-1fd9-4607-b9b6-ab0a005a3aeb",
   "metadata": {},
   "source": [
    "IDEAS FOR SPEEDUP:\n",
    "* Day 1: parse input as it is read, using     with open(filename, 'r') as f:\n",
    "        for line in f:\n",
    "            split_lines.append(line.split())\n",
    "* Day 2: instead of set diff, loop through the row and stop as soon as one diff is out of bounds\n",
    "* Day 3:\n",
    "* Day 4:\n",
    "* Day 5: do all the ordering at the beginning, instead of for each update?\n",
    "* Day 6:\n",
    "* Day 7:\n",
    "* Day 8:\n",
    "* Day 9:\n",
    "* Day 10:\n",
    "* Day 11:\n",
    "* Day 12:\n",
    "* Day 13:\n",
    "* Day 14:"
   ]
  },
  {
   "cell_type": "code",
   "execution_count": null,
   "id": "041ba4bd-507a-431e-8171-7595febf8814",
   "metadata": {},
   "outputs": [],
   "source": []
  }
 ],
 "metadata": {
  "kernelspec": {
   "display_name": "Python 3 (ipykernel)",
   "language": "python",
   "name": "python3"
  },
  "language_info": {
   "codemirror_mode": {
    "name": "ipython",
    "version": 3
   },
   "file_extension": ".py",
   "mimetype": "text/x-python",
   "name": "python",
   "nbconvert_exporter": "python",
   "pygments_lexer": "ipython3",
   "version": "3.12.7"
  }
 },
 "nbformat": 4,
 "nbformat_minor": 5
}
